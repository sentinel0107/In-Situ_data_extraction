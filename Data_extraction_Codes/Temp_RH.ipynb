{
 "cells": [
  {
   "cell_type": "code",
   "execution_count": 1,
   "id": "8a032b14-2cb9-44d5-8da6-5d885c8b000c",
   "metadata": {},
   "outputs": [],
   "source": [
    "import glob\n",
    "import pandas as pd"
   ]
  },
  {
   "cell_type": "code",
   "execution_count": 2,
   "id": "41aff15c-a748-46c1-b67c-e7867ace8970",
   "metadata": {},
   "outputs": [],
   "source": [
    "filenames = []\n",
    "\n",
    "count_1 = 0\n",
    "count_2 = 0"
   ]
  },
  {
   "cell_type": "code",
   "execution_count": 3,
   "id": "ce515bec-9dcd-489d-b9d8-5817b85690a5",
   "metadata": {},
   "outputs": [],
   "source": [
    "for filepath in glob.iglob('/home/jovyan/CR1000_TRH/*.dat'):\n",
    "    filenames.append(filepath)\n",
    "    # print(filenames)\n",
    "    count_1 += 1"
   ]
  },
  {
   "cell_type": "code",
   "execution_count": 4,
   "id": "7150a6dd-1be5-403f-8876-73681b84dd95",
   "metadata": {},
   "outputs": [],
   "source": [
    "for file in filenames:\n",
    "    #print(file)\n",
    "    count_2 += 1\n",
    "    df = pd.read_csv(file,skiprows=1,engine='python')\n",
    "    year_list = df['TIMESTAMP']\n",
    "    t1d_list = df['T1d_Avg']\n",
    "    rh1d_list = df['RH1d_Avg']\n",
    "    t2d_list = df['T2d_Avg']\n",
    "    rh2d_list = df['RH2d_Avg']\n",
    "    t3d_list = df['T3d_Avg']\n",
    "    rh3d_list = df['RH3d_Avg']\n",
    "    t1a_list = df['T1a_Avg']\n",
    "    rh1a_list = df['RH1a_Avg']\n",
    "    t2a_list = df['T2a_Avg']\n",
    "    rh2a_list = df['RH2a_Avg']\n",
    "    t3a_list = df['T3a_Avg']\n",
    "    rh3a_list = df['RH3a_Avg']\n",
    "    t4a_list = df['T4a_Avg']\n",
    "    rh4a_list = df['RH4a_Avg']\n",
    "    df_2 = pd.DataFrame({'year': year_list,'t1d': t1d_list, 'rh1d': rh1d_list, 't2d': t2d_list, 'rh2d': rh2d_list, 't3d': t3d_list, 'rh3d': rh3d_list, 't1a': t1a_list, 'rh1a': rh1a_list, 't2a': t2a_list, 'rh2a': rh2a_list, 't3a': t3a_list, 'rh3a': rh3a_list, 't4a': t4a_list, 'rh4a': rh4a_list})\n",
    "    save_name = file.split('/')\n",
    "    #print(save_name)\n",
    "    new_name = save_name[4].split('.')\n",
    "    #print(new_name[0])\n",
    "    df_2.to_csv('/home/jovyan/CR1000_TRH/output/'+new_name[0]+'.csv')"
   ]
  }
 ],
 "metadata": {
  "kernelspec": {
   "display_name": "Python",
   "language": "python",
   "name": "python3"
  },
  "language_info": {
   "codemirror_mode": {
    "name": "ipython",
    "version": 3
   },
   "file_extension": ".py",
   "mimetype": "text/x-python",
   "name": "python",
   "nbconvert_exporter": "python",
   "pygments_lexer": "ipython3",
   "version": "3.8.10"
  }
 },
 "nbformat": 4,
 "nbformat_minor": 5
}
