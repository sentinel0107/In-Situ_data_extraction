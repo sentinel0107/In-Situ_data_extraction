{
 "cells": [
  {
   "cell_type": "code",
   "execution_count": null,
   "id": "200b8406-0187-4d16-adfd-9a1c98a4935a",
   "metadata": {},
   "outputs": [],
   "source": [
    "\n",
    "import glob\n",
    "import pandas as pd\n",
    "\n",
    "filenames = []\n",
    "\n",
    "count_1 = 0\n",
    "count_2 = 0\n",
    "\n",
    "for filepath in glob.iglob('/home/jovyan/private/CR5000_cupanemometer_windspeed/*.dat'):\n",
    "    filenames.append(filepath)\n",
    "    # print(filenames)\n",
    "    count_1 += 1\n",
    "for file in filenames:\n",
    "    # print(file)\n",
    "    count_2 += 1\n",
    "    df = pd.read_csv(file,skiprows=1,engine='python')\n",
    "    year_list = df['TIMESTAMP']\n",
    "    wms_list = df['WS_ms_Avg']\n",
    "    df_2 = pd.DataFrame({'year': year_list,'windspeed': wms_list})\n",
    "    save_name = file.split('/')\n",
    "    #print(save_name)\n",
    "    new_name = save_name[5].split('.')\n",
    "    print(new_name[0])\n",
    "    df_2.to_csv('/home/jovyan/private/CR5000_cupanemometer_windspeed/output/'+new_name[0]+'.csv')\n",
    "\n",
    "print(\"I am sexy and my name is ashutosh not like akshay\")"
   ]
  },
  {
   "cell_type": "code",
   "execution_count": null,
   "id": "b53a9d4d-a9cf-4068-8cb7-c0a3c61b2526",
   "metadata": {},
   "outputs": [],
   "source": []
  }
 ],
 "metadata": {
  "kernelspec": {
   "display_name": "Python",
   "language": "python",
   "name": "python3"
  },
  "language_info": {
   "codemirror_mode": {
    "name": "ipython",
    "version": 3
   },
   "file_extension": ".py",
   "mimetype": "text/x-python",
   "name": "python",
   "nbconvert_exporter": "python",
   "pygments_lexer": "ipython3",
   "version": "3.8.10"
  }
 },
 "nbformat": 4,
 "nbformat_minor": 5
}
