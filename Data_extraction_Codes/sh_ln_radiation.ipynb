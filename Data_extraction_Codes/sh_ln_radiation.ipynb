{
 "cells": [
  {
   "cell_type": "code",
   "execution_count": 1,
   "id": "c876a818-50ab-47b6-aa2e-e95b1daef1b4",
   "metadata": {},
   "outputs": [],
   "source": [
    "import glob\n",
    "import pandas as pd"
   ]
  },
  {
   "cell_type": "code",
   "execution_count": 2,
   "id": "b7d2a8e0-f0ad-4951-8dc5-396ff7a5b314",
   "metadata": {},
   "outputs": [],
   "source": [
    "filenames = []\n",
    "\n",
    "count_1 = 0\n",
    "count_2 = 0"
   ]
  },
  {
   "cell_type": "code",
   "execution_count": 3,
   "id": "5bac9fba-324e-4a56-9084-1af83cf2fa46",
   "metadata": {},
   "outputs": [],
   "source": [
    "for filepath in glob.iglob('/home/jovyan/CR5000_cnr4_ts/*.dat'):\n",
    "    filenames.append(filepath)\n",
    "    # print(filenames)\n",
    "    count_1 += 1"
   ]
  },
  {
   "cell_type": "code",
   "execution_count": 4,
   "id": "bbbc590c-d223-48a8-8750-a2725595ef7e",
   "metadata": {},
   "outputs": [],
   "source": [
    "for file in filenames:\n",
    "    #print(file)\n",
    "    count_2 += 1\n",
    "    df = pd.read_csv(file,skiprows=1,engine='python')\n",
    "    year_list = df['TIMESTAMP']\n",
    "    short1_list = df['short_up']\n",
    "    short2_list = df['short_dn']\n",
    "    long1_list = df['long_up']\n",
    "    long2_list = df['long_dn']\n",
    "    temp_list = df['cnr4_T_K']\n",
    "\n",
    "    df_2 = pd.DataFrame({'year': year_list,'short1': short1_list, 'short2': short2_list, 'long1': long1_list, 'long2': long2_list, 'temp': temp_list})\n",
    "    save_name = file.split('/')\n",
    "    #print(save_name)\n",
    "    new_name = save_name[4].split('.')\n",
    "    #print(new_name[0])\n",
    "    df_2.to_csv('/home/jovyan/CR5000_cnr4_ts/output/'+new_name[0]+'.csv')"
   ]
  }
 ],
 "metadata": {
  "kernelspec": {
   "display_name": "Python",
   "language": "python",
   "name": "python3"
  },
  "language_info": {
   "codemirror_mode": {
    "name": "ipython",
    "version": 3
   },
   "file_extension": ".py",
   "mimetype": "text/x-python",
   "name": "python",
   "nbconvert_exporter": "python",
   "pygments_lexer": "ipython3",
   "version": "3.8.10"
  }
 },
 "nbformat": 4,
 "nbformat_minor": 5
}
