{
 "cells": [
  {
   "cell_type": "code",
   "execution_count": 1,
   "id": "962da72f-ff14-439c-a1d2-d57ffa2a2d9d",
   "metadata": {},
   "outputs": [],
   "source": [
    "import glob\n",
    "import pandas as pd"
   ]
  },
  {
   "cell_type": "code",
   "execution_count": 2,
   "id": "4eb770d9-9481-4162-a4c6-01cc3522f3d1",
   "metadata": {},
   "outputs": [],
   "source": [
    "filenames = []\n",
    "\n",
    "count_1 = 0\n",
    "count_2 = 0"
   ]
  },
  {
   "cell_type": "code",
   "execution_count": 3,
   "id": "323c5b9d-5248-482f-924f-53b7ee4140c4",
   "metadata": {},
   "outputs": [],
   "source": [
    "for filepath in glob.iglob('/home/jovyan/CR5000_cnr4data/*.dat'):\n",
    "    filenames.append(filepath)\n",
    "    # print(filenames)\n",
    "    count_1 += 1"
   ]
  },
  {
   "cell_type": "code",
   "execution_count": 4,
   "id": "68556969-27e4-48fb-93c2-7afa1aac8ad0",
   "metadata": {},
   "outputs": [],
   "source": [
    "for file in filenames:\n",
    "    #print(file)\n",
    "    count_2 += 1\n",
    "    df = pd.read_csv(file,skiprows=1,engine='python')\n",
    "    year_list = df['TIMESTAMP']\n",
    "    short1_list = df['short_up_Avg']\n",
    "    short2_list = df['short_dn_Avg']\n",
    "    long1_list = df['long_up_Avg']\n",
    "    long2_list = df['long_dn_Avg']\n",
    "    tempc_list = df['cnr4_T_C_Avg']\n",
    "    tempk_list = df['cnr4_T_K_Avg']\n",
    "    longc1_list = df['long_up_corr_Avg']\n",
    "    longc2_list = df['long_dn_corr_Avg']\n",
    "    rshort_list = df['Rs_net_Avg']\n",
    "    rlong_list = df['Rl_net_Avg']\n",
    "    albedo_list = df['albedo_Avg']\n",
    "    rnet_list = df['Rn_Avg']\n",
    "    \n",
    "    df_2 = pd.DataFrame({'year': year_list,'short1': short1_list, 'short2': short2_list, 'long1': long1_list, 'long2': long2_list, 'tempc': tempc_list, 'tempk': tempk_list, 'longc1': longc1_list, 'longc2': longc2_list, 'rshort': rshort_list, 'rlong': rlong_list, 'albedo': albedo_list, 'rnet': rnet_list})\n",
    "    save_name = file.split('/')\n",
    "    #print(save_name)\n",
    "    new_name = save_name[4].split('.')\n",
    "    #print(new_name[0])\n",
    "    df_2.to_csv('/home/jovyan/CR5000_cnr4data/output/'+new_name[0]+'.csv')"
   ]
  },
  {
   "cell_type": "code",
   "execution_count": null,
   "id": "7d9d347b-984e-4cc8-937c-6e0ec08dc19e",
   "metadata": {},
   "outputs": [],
   "source": []
  }
 ],
 "metadata": {
  "kernelspec": {
   "display_name": "Python",
   "language": "python",
   "name": "python3"
  },
  "language_info": {
   "codemirror_mode": {
    "name": "ipython",
    "version": 3
   },
   "file_extension": ".py",
   "mimetype": "text/x-python",
   "name": "python",
   "nbconvert_exporter": "python",
   "pygments_lexer": "ipython3",
   "version": "3.8.10"
  }
 },
 "nbformat": 4,
 "nbformat_minor": 5
}
